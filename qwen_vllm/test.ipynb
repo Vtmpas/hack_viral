{
 "cells": [
  {
   "cell_type": "code",
   "execution_count": 4,
   "metadata": {},
   "outputs": [
    {
     "name": "stdout",
     "output_type": "stream",
     "text": [
      "Chat completion output:This image displays a picturesque scene of a wooden boardwalk running through a grassy field. The boardwalk is surrounded by lush green grass, and the day appears to be clear and sunny. The grassy field extends to the horizon, indicating a vast open space. In the background, there are a few\n"
     ]
    }
   ],
   "source": [
    "\"\"\"An example showing how to use vLLM to serve VLMs.\n",
    "\n",
    "Launch the vLLM server with the following command:\n",
    "vllm serve llava-hf/llava-1.5-7b-hf --chat-template template_llava.jinja\n",
    "\"\"\"\n",
    "import base64\n",
    "\n",
    "import requests\n",
    "from openai import OpenAI\n",
    "\n",
    "# Modify OpenAI's API key and API base to use vLLM's API server.\n",
    "openai_api_key = \"EMPTY\"\n",
    "openai_api_base = \"http://localhost:8002/v1\"\n",
    "\n",
    "client = OpenAI(\n",
    "    # defaults to os.environ.get(\"OPENAI_API_KEY\")\n",
    "    api_key=openai_api_key,\n",
    "    base_url=openai_api_base,\n",
    ")\n",
    "\n",
    "models = client.models.list()\n",
    "model = models.data[0].id\n",
    "\n",
    "image_url = \"https://upload.wikimedia.org/wikipedia/commons/thumb/d/dd/Gfp-wisconsin-madison-the-nature-boardwalk.jpg/2560px-Gfp-wisconsin-madison-the-nature-boardwalk.jpg\"\n",
    "\n",
    "# Use base64 encoded image in the payload\n",
    "def encode_image_base64_from_url(image_url: str) -> str:\n",
    "    \"\"\"Encode an image retrieved from a remote url to base64 format.\"\"\"\n",
    "\n",
    "    with requests.get(image_url) as response:\n",
    "        response.raise_for_status()\n",
    "        result = base64.b64encode(response.content).decode('utf-8')\n",
    "\n",
    "    return result\n",
    "\n",
    "\n",
    "image_base64 = encode_image_base64_from_url(image_url=image_url)\n",
    "chat_completion_from_base64 = client.chat.completions.create(\n",
    "    messages=[{\n",
    "        \"role\":\n",
    "        \"user\",\n",
    "        \"content\": [\n",
    "            {\n",
    "                \"type\": \"text\",\n",
    "                \"text\": \"What’s in this image?\"\n",
    "            },\n",
    "            {\n",
    "                \"type\": \"image_url\",\n",
    "                \"image_url\": {\n",
    "                    \"url\": f\"data:image/jpeg;base64,{image_base64}\"\n",
    "                },\n",
    "            },\n",
    "        ],\n",
    "    }],\n",
    "    model=model,\n",
    "    max_tokens=64,\n",
    ")\n",
    "\n",
    "result = chat_completion_from_base64.choices[0].message.content\n",
    "print(f\"Chat completion output:{result}\")"
   ]
  },
  {
   "cell_type": "code",
   "execution_count": 3,
   "metadata": {},
   "outputs": [
    {
     "name": "stdout",
     "output_type": "stream",
     "text": [
      "ChatCompletionMessage(content='Hello! How can I assist you today?', refusal=None, role='assistant', function_call=None, tool_calls=[])\n"
     ]
    }
   ],
   "source": [
    "from openai import OpenAI\n",
    "base_url = \"http://195.242.25.2:8002/v1\"\n",
    "openai_api_key = \"EMPTY\"\n",
    "client = OpenAI(\n",
    "    base_url=base_url,\n",
    "    api_key=openai_api_key,\n",
    ")\n",
    "\n",
    "completion = client.chat.completions.create(\n",
    "  model=\"Qwen/Qwen2.5-14B-Instruct\",\n",
    "  messages=[\n",
    "    {\"role\": \"user\", \"content\": \"Hello!\"}\n",
    "  ]\n",
    ")\n",
    "\n",
    "print(completion.choices[0].message)"
   ]
  },
  {
   "cell_type": "code",
   "execution_count": 2,
   "metadata": {},
   "outputs": [
    {
     "data": {
      "text/plain": [
       "'/home/atomml/cogvideo_test/qwen_vllm/PSY - GANGNAM STYLE(강남스타일) MV.mp4'"
      ]
     },
     "execution_count": 2,
     "metadata": {},
     "output_type": "execute_result"
    }
   ],
   "source": [
    "from pytubefix import YouTube\n",
    "YouTube('https://youtu.be/9bZkp7q19f0').streams.first().download()"
   ]
  },
  {
   "cell_type": "code",
   "execution_count": 10,
   "metadata": {},
   "outputs": [
    {
     "data": {
      "text/plain": [
       "'15.0.0'"
      ]
     },
     "execution_count": 10,
     "metadata": {},
     "output_type": "execute_result"
    }
   ],
   "source": [
    "import pytube \n",
    "pytube.__version__"
   ]
  },
  {
   "cell_type": "code",
   "execution_count": null,
   "metadata": {},
   "outputs": [],
   "source": []
  }
 ],
 "metadata": {
  "kernelspec": {
   "display_name": "cene655venv",
   "language": "python",
   "name": "cene655venv"
  },
  "language_info": {
   "codemirror_mode": {
    "name": "ipython",
    "version": 3
   },
   "file_extension": ".py",
   "mimetype": "text/x-python",
   "name": "python",
   "nbconvert_exporter": "python",
   "pygments_lexer": "ipython3",
   "version": "3.10.12"
  }
 },
 "nbformat": 4,
 "nbformat_minor": 2
}
